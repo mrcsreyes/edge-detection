{
 "cells": [
  {
   "cell_type": "code",
   "execution_count": null,
   "metadata": {},
   "outputs": [],
   "source": [
    "import numpy as np\n",
    "import argparse\n",
    "import glob\n",
    "import cv2\n",
    "\n",
    "def auto_canny(image, sigma=0.33):\n",
    "\t# compute the median of the single channel pixel intensities\n",
    "\tv = np.median(image)\n",
    "\t# apply automatic Canny edge detection using the computed median\n",
    "\tlower = int(max(0, (1.0 - sigma) * v))\n",
    "\tupper = int(min(255, (1.0 + sigma) * v))\n",
    "\tedged = cv2.Canny(image, lower, upper)\n",
    "\t# return the edged image\n",
    "\treturn edged\n",
    "\n",
    "# construct the argument parse and parse the arguments\n",
    "ap = argparse.ArgumentParser()\n",
    "ap.add_argument(\"-image\", \"--Images\", required=True,\n",
    "\thelp=\"path to input dataset of images\")\n",
    "args = vars(ap.parse_args())\n",
    "\n",
    "# loop over the images\n",
    "for imagePath in glob.glob(args[\"image\"] + \"/*.jpg\"):\n",
    "\t# load the image, convert it to grayscale, and blur it slightly\n",
    "\timage = cv2.imread(imagePath)\n",
    "\tgray = cv2.cvtColor(image, cv2.COLOR_BGR2GRAY)\n",
    "\tblurred = cv2.GaussianBlur(gray, (3, 3), 0)\n",
    "\t# apply Canny edge detection using a wide threshold, tight\n",
    "\t# threshold, and automatically determined threshold\n",
    "\twide = cv2.Canny(blurred, 10, 200)\n",
    "\ttight = cv2.Canny(blurred, 225, 250)\n",
    "\tauto = auto_canny(blurred)\n",
    "\t# show the images\n",
    "\tcv2.imshow(\"Original\", image)\n",
    "\tcv2.imshow(\"Edges\", np.hstack([wide, tight, auto]))\n",
    "\tcv2.waitKey(0)"
   ]
  }
 ],
 "metadata": {
  "kernelspec": {
   "display_name": "Python 3",
   "language": "python",
   "name": "python3"
  },
  "language_info": {
   "codemirror_mode": {
    "name": "ipython",
    "version": 3
   },
   "file_extension": ".py",
   "mimetype": "text/x-python",
   "name": "python",
   "nbconvert_exporter": "python",
   "pygments_lexer": "ipython3",
   "version": "3.7.6"
  }
 },
 "nbformat": 4,
 "nbformat_minor": 4
}
